{
 "cells": [
  {
   "cell_type": "code",
   "execution_count": 2,
   "metadata": {
    "collapsed": true
   },
   "outputs": [],
   "source": [
    "import datetime\n",
    "import httplib2\n",
    "import os\n",
    "import re\n",
    "import time\n",
    "\n",
    "from apiclient import discovery\n",
    "from oauth2client import file, client, tools\n",
    "from tqdm import tqdm"
   ]
  },
  {
   "cell_type": "code",
   "execution_count": 3,
   "metadata": {},
   "outputs": [],
   "source": [
    "NEW_ORDERS_LABEL = 'Label_7015697172796597976'"
   ]
  },
  {
   "cell_type": "code",
   "execution_count": 4,
   "metadata": {},
   "outputs": [],
   "source": [
    "def get_credentials(client_secret_file, scopes):\n",
    "    cwd_dir = os.getcwd()\n",
    "    credential_dir = os.path.join(cwd_dir, 'infrastructure')\n",
    "    if not os.path.exists(credential_dir):\n",
    "        os.makedirs(credential_dir)\n",
    "\n",
    "    credential_path = os.path.join(credential_dir, 'gmail-credentials.json')\n",
    "\n",
    "    store = file.Storage(credential_path)\n",
    "    credentials = store.get()\n",
    "\n",
    "    if not credentials or credentials.invalid:\n",
    "        flow = client.flow_from_clientsecrets(client_secret_file, scopes)\n",
    "        credentials = tools.run_flow(flow, store)\n",
    "        print('Storing credentials to ' + credential_path)\n",
    "\n",
    "    return credentials"
   ]
  },
  {
   "cell_type": "code",
   "execution_count": 5,
   "metadata": {},
   "outputs": [],
   "source": [
    "def build_service(credentials):\n",
    "    http = httplib2.Http()\n",
    "    http = credentials.authorize(http)\n",
    "\n",
    "    return discovery.build('gmail', 'v1', http=http)"
   ]
  },
  {
   "cell_type": "code",
   "execution_count": 6,
   "metadata": {},
   "outputs": [],
   "source": [
    "def connect_gmail():\n",
    "    scopes = ['https://www.googleapis.com/auth/gmail.readonly',\n",
    "              'https://www.googleapis.com/auth/gmail.modify',\n",
    "              'https://www.googleapis.com/auth/gmail.labels']\n",
    "    cwd_dir = os.getcwd()\n",
    "    client_secret_dir = os.path.join(cwd_dir, 'infrastructure')\n",
    "    client_secret_file = os.path.join(client_secret_dir, 'oauth_client_id.json')\n",
    "\n",
    "    credentials = get_credentials(client_secret_file, scopes)\n",
    "    service = build_service(credentials)\n",
    "\n",
    "    return service"
   ]
  },
  {
   "cell_type": "code",
   "execution_count": 7,
   "metadata": {},
   "outputs": [],
   "source": [
    "def list_threads(service, label_ids):\n",
    "    response = service.users().threads().list(userId='me', labelIds=label_ids).execute()\n",
    "\n",
    "    threads = []\n",
    "    if 'threads' in response:\n",
    "        threads.extend(response['threads'])\n",
    "\n",
    "    while 'nextPageToken' in response:\n",
    "        page_token = response['nextPageToken']\n",
    "        response = service.users().threads().list(userId=\"me\", labelIds=label_ids, pageToken=page_token).execute()\n",
    "        threads.extend(response['threads'])\n",
    "\n",
    "    return threads"
   ]
  },
  {
   "cell_type": "code",
   "execution_count": 8,
   "metadata": {},
   "outputs": [],
   "source": [
    "def print_labels(service):\n",
    "    response = service.users().labels().list(userId='me').execute()\n",
    "    labels = response['labels']\n",
    "\n",
    "    if not labels:\n",
    "        print('No labels found.')\n",
    "    else:\n",
    "        print('Labels:')\n",
    "        for label in labels:\n",
    "            print(label['name'] + \",\" + label['id'])"
   ]
  },
  {
   "cell_type": "code",
   "execution_count": 9,
   "metadata": {
    "collapsed": true
   },
   "outputs": [
    {
     "name": "stdout",
     "output_type": "stream",
     "text": [
      "Execution start: 2018-10-26 23:31:17.684045\n"
     ]
    },
    {
     "name": "stderr",
     "output_type": "stream",
     "text": [
      "\r  0%|          | 0/419 [00:00<?, ?it/s]"
     ]
    },
    {
     "name": "stderr",
     "output_type": "stream",
     "text": [
      "\r  0%|          | 1/419 [00:00<01:21,  5.13it/s]"
     ]
    },
    {
     "name": "stderr",
     "output_type": "stream",
     "text": [
      "\r  0%|          | 2/419 [00:00<01:19,  5.26it/s]"
     ]
    },
    {
     "name": "stdout",
     "output_type": "stream",
     "text": [
      "166b0c6e18437072\nFrom: akayaba@aitworldwide.com\nSubject: Pick up request//S00305200//235-32500834\nDate: Fri, 26 Oct 2018 14:28:16 +0000\n166b0ca2ac283187\nFrom: dispatch@hawkxinc.com\nDate: Fri, 26 Oct 2018 10:31:52 -0400\nSubject: Re: Pick up request//S00305200//235-32500834\n166ac4c4a3e18cf5\nFrom: jogarcia@aitworldwide.com\nSubject: FW: AIT WORLDWIDE LOGISTICS, INC. - Pickup Order - S00305417\nDate: Thu, 25 Oct 2018 17:35:58 +0000\n166ac4fd8477de57\nFrom: logistic@hawkxinc.com\nDate: Thu, 25 Oct 2018 13:39:34 -0400\nSubject: Re: FW: AIT WORLDWIDE LOGISTICS, INC. - Pickup Order - S00305417\n"
     ]
    },
    {
     "name": "stderr",
     "output_type": "stream",
     "text": [
      "\r  1%|          | 3/419 [00:00<01:54,  3.64it/s]"
     ]
    },
    {
     "name": "stderr",
     "output_type": "stream",
     "text": [
      "\r  1%|          | 4/419 [00:01<01:41,  4.08it/s]"
     ]
    },
    {
     "name": "stdout",
     "output_type": "stream",
     "text": [
      "166a79d027eb7c91\nFrom: rharkishun@aitworldwide.com\nSubject: RE: S00305085/Transfer to MIA Gateway by FA on 10/25 Export to CRK ***AOG AOG AOG AOG******  DROP TO EK--FLL BY 1PM THURSDAY (10/25)---SPECIAL PICKUP & DROP\nDate: Wed, 24 Oct 2018 19:46:03 +0000\n166a7a88519dad09\nFrom: rharkishun@aitworldwide.com\nSubject: RE: S00305085/Transfer to MIA Gateway by FA on 10/25 Export to CRK ***AOG AOG AOG AOG****** DROP TO EK--FLL BY 1PM THURSDAY (10/25)---SPECIAL PICKUP & DROP\nDate: Wed, 24 Oct 2018 19:58:37 +0000\n166ab6daeb44c27c\nFrom: rharkishun@aitworldwide.com\nSubject: RE: S00305085/Transfer to MIA Gateway by FA on 10/25 Export to CRK ***AOG AOG AOG AOG****** DROP TO EK--FLL BY 1PM THURSDAY (10/25)---SPECIAL PICKUP & DROP\nDate: Thu, 25 Oct 2018 13:32:10 +0000\n166ab740da5ce62e\nFrom: dispatch@hawkxinc.com\nDate: Thu, 25 Oct 2018 09:39:13 -0400\nSubject: Re: S00305085/Transfer to MIA Gateway by FA on 10/25 Export to CRK ***AOG AOG AOG AOG****** DROP TO EK--FLL BY 1PM THURSDAY (10/25)---SPECIAL PICKUP & DROP\n166ab7eba087808c\nFrom: rharkishun@aitworldwide.com\nSubject: RE: S00305085/Transfer to MIA Gateway by FA on 10/25 Export to CRK ***AOG AOG AOG AOG****** DROP TO EK--FLL BY 1PM THURSDAY (10/25)---SPECIAL PICKUP & DROP\nDate: Thu, 25 Oct 2018 13:50:48 +0000\n166abdcae6b8a3f2\nFrom: dispatch@hawkxinc.com\nDate: Thu, 25 Oct 2018 11:33:52 -0400\nSubject: Re: S00305085/Transfer to MIA Gateway by FA on 10/25 Export to CRK ***AOG AOG AOG AOG****** DROP TO EK--FLL BY 1PM THURSDAY (10/25)---SPECIAL PICKUP & DROP\n166abdff28b6e382\nFrom: rharkishun@aitworldwide.com\nSubject: RE: S00305085/Transfer to MIA Gateway by FA on 10/25 Export to CRK ***AOG AOG AOG AOG****** DROP TO EK--FLL BY 1PM THURSDAY (10/25)---SPECIAL PICKUP & DROP\nDate: Thu, 25 Oct 2018 15:37:10 +0000\n166a6c4f3cbf8348\nFrom: clperez@aitworldwide.com\nSubject: AIRLINE DROP/ AA/ C00230327 / 4PM CUT OFF\nDate: Wed, 24 Oct 2018 15:50:05 +0000\n166a6c752be7b2e7\nFrom: dispatch@hawkxinc.com\nDate: Wed, 24 Oct 2018 11:52:36 -0400\nSubject: Re: AIRLINE DROP/ AA/ C00230327 / 4PM CUT OFF\n"
     ]
    },
    {
     "name": "stderr",
     "output_type": "stream",
     "text": [
      "\r  1%|          | 5/419 [00:01<01:41,  4.09it/s]"
     ]
    },
    {
     "name": "stderr",
     "output_type": "stream",
     "text": [
      "\r  1%|▏         | 6/419 [00:01<01:32,  4.46it/s]"
     ]
    },
    {
     "name": "stdout",
     "output_type": "stream",
     "text": [
      "166983029bb16de8\nFrom: cpiemontese@aitworldwide.com\nSubject: AOG Ready for Pick Up // Leki to LH/MIA // S00304198\nDate: Sun, 21 Oct 2018 19:52:47 +0000\n1669bfaf5a02e40d\nFrom: akayaba@aitworldwide.com\nSubject: RE: AOG Ready for Pick Up // Leki to LH/MIA // S00304198\nDate: Mon, 22 Oct 2018 13:33:18 +0000\n1669c05b061f85c0\nFrom: dispatch@hawkxinc.com\nDate: Mon, 22 Oct 2018 09:44:52 -0400\nSubject: Re: AOG Ready for Pick Up // Leki to LH/MIA // S00304198\n1669c07fed1ff713\nFrom: akayaba@aitworldwide.com\nSubject: RE: AOG Ready for Pick Up // Leki to LH/MIA // S00304198\nDate: Mon, 22 Oct 2018 13:47:27 +0000\n1669c0dfe414ad17\nFrom: cpiemontese@aitworldwide.com\nSubject: Re: AOG Ready for Pick Up // Leki to LH/MIA // S00304198\nDate: Mon, 22 Oct 2018 13:54:07 +0000\n1669f243df093b5d\nFrom: jogarcia@aitworldwide.com\nSubject: RE: AOG Ready for Pick Up // Leki to LH/MIA // S00304198\nDate: Tue, 23 Oct 2018 04:16:49 +0000\n1669cbaf3dc1fbce\nFrom: clperez@aitworldwide.com\nSubject: AIRLINE DROP/ AA / 4 PM CU TOFF\nDate: Mon, 22 Oct 2018 17:02:54 +0000\n1669cc56655212d8\nFrom: dispatch@hawkxinc.com\nDate: Mon, 22 Oct 2018 13:14:17 -0400\nSubject: Re: AIRLINE DROP/ AA / 4 PM CU TOFF\n"
     ]
    },
    {
     "name": "stderr",
     "output_type": "stream",
     "text": [
      "\r  2%|▏         | 7/419 [00:01<01:26,  4.75it/s]"
     ]
    },
    {
     "name": "stderr",
     "output_type": "stream",
     "text": [
      "\r  2%|▏         | 8/419 [00:01<01:21,  5.07it/s]"
     ]
    },
    {
     "name": "stdout",
     "output_type": "stream",
     "text": [
      "1669c5a6f2580200\nFrom: akayaba@aitworldwide.com\nSubject: Pick up request//S00304352//020-81459895\nDate: Mon, 22 Oct 2018 15:17:26 +0000\n1669c69cc605913b\nFrom: dispatch@hawkxinc.com\nDate: Mon, 22 Oct 2018 11:34:13 -0400\nSubject: Re: Pick up request//S00304352//020-81459895\n1669c16a8ae51406\nFrom: akayaba@aitworldwide.com\nSubject: Pickup request//S00304202//020-81459873\nDate: Mon, 22 Oct 2018 14:03:27 +0000\n"
     ]
    },
    {
     "name": "stderr",
     "output_type": "stream",
     "text": [
      "\r  2%|▏         | 9/419 [00:02<01:34,  4.36it/s]"
     ]
    },
    {
     "name": "stderr",
     "output_type": "stream",
     "text": [
      "\r  2%|▏         | 10/419 [00:02<01:29,  4.58it/s]"
     ]
    },
    {
     "name": "stdout",
     "output_type": "stream",
     "text": [
      "1668e42126e1ba5e\nFrom: jogarcia@aitworldwide.com\nSubject: FW: AIT WORLDWIDE LOGISTICS, INC. - Pickup Order - S00304177\nDate: Fri, 19 Oct 2018 21:36:15 +0000\n1668e44522b2cb53\nFrom: dispatch@hawkxinc.com\nDate: Fri, 19 Oct 2018 17:38:38 -0400\nSubject: Re: FW: AIT WORLDWIDE LOGISTICS, INC. - Pickup Order - S00304177\n1668e45e6f3a5f6d\nFrom: jogarcia@aitworldwide.com\nSubject: RE: FW: AIT WORLDWIDE LOGISTICS, INC. - Pickup Order - S00304177\nDate: Fri, 19 Oct 2018 21:40:28 +0000\n1668e471af872a4a\nFrom: dispatch@hawkxinc.com\nDate: Fri, 19 Oct 2018 17:41:41 -0400\nSubject: Re: FW: AIT WORLDWIDE LOGISTICS, INC. - Pickup Order - S00304177\n1668e7c73cf13ce3\nFrom: jogarcia@aitworldwide.com\nSubject: RE: FW: AIT WORLDWIDE LOGISTICS, INC. - Pickup Order - S00304177\nDate: Fri, 19 Oct 2018 22:39:57 +0000\n1668e7f9cf2145e1\nFrom: logistic@hawkxinc.com\nDate: Fri, 19 Oct 2018 18:43:26 -0400\nSubject: Re: FW: AIT WORLDWIDE LOGISTICS, INC. - Pickup Order - S00304177\n1668e83aca9d6315\nFrom: jogarcia@aitworldwide.com\nSubject: RE: FW: AIT WORLDWIDE LOGISTICS, INC. - Pickup Order - S00304177\nDate: Fri, 19 Oct 2018 22:47:56 +0000\n1668714ec93ba065\nFrom: clperez@aitworldwide.com\nSubject: S00296825/ AIRLINE DROP CU OFF 10 AM\nDate: Thu, 18 Oct 2018 12:09:37 +0000\n166873001e44b485\nFrom: clperez@aitworldwide.com\nSubject: RE: S00296825/ AIRLINE DROP CU OFF 10 AM\nDate: Thu, 18 Oct 2018 12:39:05 +0000\n1668730309c95aba\nFrom: clperez@aitworldwide.com\nSubject: RE: S00296825/ AIRLINE DROP CU OFF 10 AM\nDate: Thu, 18 Oct 2018 12:39:26 +0000\n"
     ]
    },
    {
     "name": "stderr",
     "output_type": "stream",
     "text": [
      "\r  3%|▎         | 11/419 [00:02<01:20,  5.09it/s]"
     ]
    },
    {
     "name": "stdout",
     "output_type": "stream",
     "text": [
      "166872ffde8c27c6\nFrom: clperez@aitworldwide.com\nSubject: Recall: S00296825/ AIRLINE DROP CU OFF 10 AM\nDate: Thu, 18 Oct 2018 12:39:15 +0000\n"
     ]
    },
    {
     "name": "stderr",
     "output_type": "stream",
     "text": [
      "\r  3%|▎         | 12/419 [00:02<01:58,  3.43it/s]"
     ]
    },
    {
     "name": "stdout",
     "output_type": "stream",
     "text": [
      "16669d0e7c1ded90\nFrom: clperez@aitworldwide.com\nSubject: SATURDAY DROP/ LAN/ S00296825\nDate: Fri, 12 Oct 2018 19:46:20 +0000\n16669dcaeb9ea531\nFrom: dispatch@hawkxinc.com\nDate: Fri, 12 Oct 2018 15:59:06 -0400\nSubject: Re: SATURDAY DROP/ LAN/ S00296825\n16669defdbedffae\nFrom: clperez@aitworldwide.com\nSubject: RE: SATURDAY DROP/ LAN/ S00296825\nDate: Fri, 12 Oct 2018 20:01:46 +0000\n16669eb99842fb96\nFrom: dispatch@hawkxinc.com\nDate: Fri, 12 Oct 2018 16:15:25 -0400\nSubject: Re: SATURDAY DROP/ LAN/ S00296825\n1666a0164cc4b1a3\nFrom: clperez@aitworldwide.com\nSubject: RE: SATURDAY DROP/ LAN/ S00296825\nDate: Fri, 12 Oct 2018 20:39:20 +0000\n1666a0c96dfa39f7\nFrom: dispatch@hawkxinc.com\nDate: Fri, 12 Oct 2018 16:51:25 -0400\nSubject: Re: SATURDAY DROP/ LAN/ S00296825\n1666dfcbbfcbbc8e\nFrom: dispatch@hawkxinc.com\nDate: Sat, 13 Oct 2018 11:12:36 -0400\nSubject: Re: SATURDAY DROP/ LAN/ S00296825\n1666e1339438bab3\nFrom: dispatch@hawkxinc.com\nDate: Sat, 13 Oct 2018 11:37:08 -0400\nSubject: Re: SATURDAY DROP/ LAN/ S00296825\n166821ec5b594fbe\nFrom: clperez@aitworldwide.com\nSubject: RE: SATURDAY DROP/ LAN/ S00296825\nDate: Wed, 17 Oct 2018 13:02:11 +0000\n166825c24bec9aca\nFrom: clperez@aitworldwide.com\nSubject: RE: SATURDAY DROP/ LAN/ S00296825\nDate: Wed, 17 Oct 2018 14:09:15 +0000\n16682637e495c125\nFrom: dispatch@hawkxinc.com\nDate: Wed, 17 Oct 2018 10:17:12 -0400\nSubject: Re: SATURDAY DROP/ LAN/ S00296825\n1668263fc44b45db\nFrom: clperez@aitworldwide.com\nSubject: RE: SATURDAY DROP/ LAN/ S00296825\nDate: Wed, 17 Oct 2018 14:17:50 +0000\n166826d0c38d62da\nFrom: clperez@aitworldwide.com\nSubject: RE: SATURDAY DROP/ LAN/ S00296825\nDate: Wed, 17 Oct 2018 14:27:43 +0000\n16682a76af7ae2cf\nFrom: clperez@aitworldwide.com\nSubject: RE: SATURDAY DROP/ LAN/ S00296825\nDate: Wed, 17 Oct 2018 15:31:27 +0000\n16682aad6d4e5f0a\nFrom: dispatch@hawkxinc.com\nDate: Wed, 17 Oct 2018 11:35:04 -0400\nSubject: Re: SATURDAY DROP/ LAN/ S00296825\n16682ac45249277f\nFrom: clperez@aitworldwide.com\nSubject: RE: SATURDAY DROP/ LAN/ S00296825\nDate: Wed, 17 Oct 2018 15:36:46 +0000\n"
     ]
    }
   ],
   "source": [
    "start = time.time()\n",
    "print(f\"Execution start: {datetime.datetime.now()}\")\n",
    "service = connect_gmail()\n",
    "# print_labels(service)\n",
    "threads = list_threads(service, [NEW_ORDERS_LABEL])\n",
    "# print(f\"Threads: {threads}\")\n",
    "for thread in tqdm(threads):\n",
    "    # print(thread['id'])\n",
    "    thread = service.users().threads().get(userId=\"me\", id=thread['id']).execute()\n",
    "    for message in thread['messages']:\n",
    "        print(message['id'])\n",
    "        headers = message['payload']['headers']\n",
    "        \n",
    "        correo = {}\n",
    "\n",
    "        for header in headers:\n",
    "            if header['name'] == 'Subject':\n",
    "                print(f\"Subject: {header['value']}\")\n",
    "                correo['Subject'] = header['value']\n",
    "            elif header['name'] == 'Date':\n",
    "                print(f\"Date: {header['value']}\")\n",
    "                correo['Date'] = datetime.datetime.strptime(header['value'], \"%a, %d %b %Y %H:%M:%S %z\")\n",
    "            elif header['name'] == 'From':\n",
    "                print(f\"From: {re.findall(r'<(.*)>', header['value'])[0]}\")\n",
    "                correo['From'] = re.findall(r'<(.*)>', header['value'])[0]"
   ]
  },
  {
   "cell_type": "code",
   "execution_count": 23,
   "metadata": {},
   "outputs": [],
   "source": []
  },
  {
   "cell_type": "code",
   "execution_count": null,
   "metadata": {},
   "outputs": [],
   "source": []
  }
 ],
 "metadata": {
  "kernelspec": {
   "display_name": "Python 2",
   "language": "python",
   "name": "python2"
  },
  "language_info": {
   "codemirror_mode": {
    "name": "ipython",
    "version": 2
   },
   "file_extension": ".py",
   "mimetype": "text/x-python",
   "name": "python",
   "nbconvert_exporter": "python",
   "pygments_lexer": "ipython2",
   "version": "2.7.6"
  }
 },
 "nbformat": 4,
 "nbformat_minor": 0
}
